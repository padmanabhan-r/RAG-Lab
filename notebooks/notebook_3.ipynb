{
 "cells": [
  {
   "cell_type": "code",
   "execution_count": 1,
   "id": "9a2ced15",
   "metadata": {},
   "outputs": [
    {
     "name": "stdout",
     "output_type": "stream",
     "text": [
      "\u001b[2K\u001b[2mResolved \u001b[1m297 packages\u001b[0m \u001b[2min 1.20s\u001b[0m\u001b[0m                                       \u001b[0m\n",
      "\u001b[1m\u001b[33mwarning\u001b[39m\u001b[0m\u001b[1m:\u001b[0m \u001b[1m`google-cloud-bigquery==3.32.0` is yanked (reason: \"Performance regression caused by PR #2154\")\u001b[0m\n",
      "\u001b[2K\u001b[1m\u001b[33mwarning\u001b[39m\u001b[0m\u001b[1m:\u001b[0m \u001b[1m`google-cloud-bigquery==3.32.0` is yanked (reason: \"Performance regression caused by PR #2154\")\u001b[0m\n",
      "\u001b[2mAudited \u001b[1m291 packages\u001b[0m \u001b[2min 0.17ms\u001b[0m\u001b[0m\n"
     ]
    }
   ],
   "source": [
    "!uv add datasets"
   ]
  },
  {
   "cell_type": "code",
   "execution_count": null,
   "id": "078e5570",
   "metadata": {},
   "outputs": [],
   "source": []
  }
 ],
 "metadata": {
  "kernelspec": {
   "display_name": ".venv",
   "language": "python",
   "name": "python3"
  },
  "language_info": {
   "codemirror_mode": {
    "name": "ipython",
    "version": 3
   },
   "file_extension": ".py",
   "mimetype": "text/x-python",
   "name": "python",
   "nbconvert_exporter": "python",
   "pygments_lexer": "ipython3",
   "version": "3.11.12"
  }
 },
 "nbformat": 4,
 "nbformat_minor": 5
}
